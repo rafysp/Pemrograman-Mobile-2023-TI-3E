{
 "cells": [
  {
   "cell_type": "code",
   "execution_count": null,
   "metadata": {},
   "outputs": [],
   "source": []
  },
  {
   "cell_type": "markdown",
   "metadata": {},
   "source": [
    "Berikut adalah penjelasan kode di atas dalam bentuk tabel:\n",
    "\n",
    "| Baris | Kode                                          | Penjelasan                                                                                                                                       |\n",
    "|-------|-----------------------------------------------|--------------------------------------------------------------------------------------------------------------------------------------------------|\n",
    "| 3     | void main()                                    | Fungsi utama yang akan dieksekusi ketika program dijalankan.                                                                                      |\n",
    "| 5     | stdout.write(\"Masukkan alas: \");               | Menampilkan pesan \"Masukkan alas: \" tanpa membuat baris baru.                                                                                    |\n",
    "| 7     | int alas = int.tryParse(stdin.readLineSync()    | Membaca input dari pengguna menggunakan `stdin.readLineSync()`, dan mencoba mengonversinya menjadi integer menggunakan `int.tryParse()`.           |\n",
    "|       | ?? \"\") ?? 0;                                  | Jika input tidak valid atau kosong, maka nilai alas akan diatur menjadi 0.                                                                        |\n",
    "| 9-13  | for (int i = 1; i <= alas; i += 2)             | Melakukan perulangan dari 1 sampai dengan nilai alas dengan penambahan 2 setiap iterasi.                                                          |\n",
    "| 10    | int space = (alas - i) ~/ 2;                   | Menghitung jumlah spasi sebelum dan setelah pola bintang pada setiap baris. Jumlah spasi dihitung berdasarkan perbedaan antara alas dan nilai i. |\n",
    "| 11    | print((\" \" * space) + (\"*\" * i) + (\" \" * space)); | Mencetak pola bintang pada setiap baris dengan menggunakan operator pengulangan untuk spasi dan bintang.                                          |\n",
    "\n",
    "Kode di atas merupakan program Dart sederhana yang meminta pengguna untuk memasukkan nilai alas, lalu mencetak pola bintang segitiga dengan menggunakan nilai alas sebagai tinggi segitiga. Setiap baris segitiga terdiri dari spasi di sebelah kiri dan kanan, dan jumlah bintang yang bertambah 2 setiap barisnya."
   ]
  }
 ],
 "metadata": {
  "language_info": {
   "name": "python"
  },
  "orig_nbformat": 4
 },
 "nbformat": 4,
 "nbformat_minor": 2
}
